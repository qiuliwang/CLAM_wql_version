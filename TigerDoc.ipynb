{
 "cells": [
  {
   "cell_type": "code",
   "execution_count": 1,
   "id": "e5811a04",
   "metadata": {},
   "outputs": [],
   "source": [
    "import openslide \n",
    "import os\n",
    "import numpy as np\n",
    "\n",
    "data_path = '/Users/wangql/Local/Data/Tiger/wsirois/wsi-level-annotations/'\n",
    "image_path = os.path.join(data_path, 'images/')\n",
    "tissues_masks_path = os.path.join(data_path, 'tissue-masks')\n",
    "cells_masks = os.path.join(data_path, 'annotations-tissue-cells-masks')"
   ]
  },
  {
   "cell_type": "code",
   "execution_count": 7,
   "id": "6e76764d",
   "metadata": {},
   "outputs": [
    {
     "name": "stdout",
     "output_type": "stream",
     "text": [
      "patient:  TC_S01_P000080_C0001_B101\n",
      "image_file:  /Users/wangql/Local/Data/Tiger/wsirois/wsi-level-annotations/images/TC_S01_P000080_C0001_B101.tif\n",
      "Level Count:  9\n",
      "Dimensions:  ((136064, 147072), (68032, 73536), (34016, 36768), (17008, 18384), (8504, 9192), (4252, 4596), (2126, 2298), (1063, 1149), (531, 574))\n",
      "Downsamples:  (1.0, 2.0, 4.0, 8.0, 16.0, 32.0, 64.0, 128.0, 256.2320255648077)\n"
     ]
    }
   ],
   "source": [
    "patient = 'TC_S01_P000080_C0001_B101'\n",
    "print('patient: ', patient)\n",
    "\n",
    "image_file = os.path.join(image_path, patient + '.tif')\n",
    "print('image_file: ', image_file)\n",
    "\n",
    "slide = openslide.OpenSlide(image_file)\n",
    "\n",
    "print('Level Count: ', slide.level_count)\n",
    "\n",
    "dimensions = slide.level_dimensions\n",
    "print('Dimensions: ', dimensions)\n",
    "\n",
    "downsamples = slide.level_downsamples\n",
    "print('Downsamples: ', downsamples)"
   ]
  },
  {
   "cell_type": "code",
   "execution_count": 12,
   "id": "e0537a76",
   "metadata": {},
   "outputs": [
    {
     "name": "stdout",
     "output_type": "stream",
     "text": [
      "cells_masks_file:  /Users/wangql/Local/Data/Tiger/wsirois/wsi-level-annotations/annotations-tissue-cells-masks/TC_S01_P000080_C0001_B101.tif\n",
      "Level Count:  9\n",
      "Dimensions:  ((136064, 147072), (68032, 73536), (34016, 36768), (17008, 18384), (8504, 9192), (4252, 4596), (2126, 2298), (1063, 1149), (531, 574))\n",
      "Downsamples:  (1.0, 2.0, 4.0, 8.0, 16.0, 32.0, 64.0, 128.0, 256.2320255648077)\n"
     ]
    }
   ],
   "source": [
    "cells_masks_file = os.path.join(cells_masks, patient + '.tif')\n",
    "print('cells_masks_file: ', cells_masks_file)\n",
    "\n",
    "cells_mask = openslide.OpenSlide(cells_masks_file)\n",
    "# read_cell_mask = cells_mask.read_region((0,0), 3, cells_mask.level_dimensions[3])\n",
    "\n",
    "print('Level Count: ', cells_mask.level_count)\n",
    "\n",
    "dimensions = cells_mask.level_dimensions\n",
    "print('Dimensions: ', dimensions)\n",
    "\n",
    "downsamples = cells_mask.level_downsamples\n",
    "print('Downsamples: ', downsamples)"
   ]
  },
  {
   "cell_type": "code",
   "execution_count": 9,
   "id": "d0197b29",
   "metadata": {},
   "outputs": [
    {
     "name": "stdout",
     "output_type": "stream",
     "text": [
      "tissues_masks_file:  /Users/wangql/Local/Data/Tiger/wsirois/wsi-level-annotations/tissue-masks/TC_S01_P000080_C0001_B101_tissue.tif\n",
      "Level Count:  9\n",
      "Dimensions:  ((136064, 147072), (68032, 73536), (34016, 36768), (17008, 18384), (8504, 9192), (4252, 4596), (2126, 2298), (1063, 1149), (531, 574))\n",
      "Downsamples:  (1.0, 2.0, 4.0, 8.0, 16.0, 32.0, 64.0, 128.0, 256.2320255648077)\n"
     ]
    }
   ],
   "source": [
    "tissues_masks_file = os.path.join(tissues_masks_path, patient + '_tissue.tif')\n",
    "print('tissues_masks_file: ', tissues_masks_file)\n",
    "\n",
    "# TC_S01_P000183_C0001_B101_tissue.tif\n",
    "tissues_masks = openslide.OpenSlide(tissues_masks_file)\n",
    "\n",
    "print('Level Count: ', tissues_masks.level_count)\n",
    "\n",
    "dimensions = tissues_masks.level_dimensions\n",
    "print('Dimensions: ', dimensions)\n",
    "\n",
    "downsamples = tissues_masks.level_downsamples\n",
    "print('Downsamples: ', downsamples)"
   ]
  },
  {
   "cell_type": "code",
   "execution_count": 14,
   "id": "54413695",
   "metadata": {},
   "outputs": [
    {
     "name": "stdout",
     "output_type": "stream",
     "text": [
      "((136064, 147072), (68032, 73536), (34016, 36768), (17008, 18384), (8504, 9192), (4252, 4596), (2126, 2298), (1063, 1149), (531, 574))\n",
      "(136064, 147072)\n"
     ]
    },
    {
     "name": "stderr",
     "output_type": "stream",
     "text": [
      "TIFFFillTile: 0: Invalid tile byte count, tile 402.\n"
     ]
    },
    {
     "ename": "OpenSlideError",
     "evalue": "TIFFRGBAImageGet failed",
     "output_type": "error",
     "traceback": [
      "\u001b[0;31m---------------------------------------------------------------------------\u001b[0m",
      "\u001b[0;31mOpenSlideError\u001b[0m                            Traceback (most recent call last)",
      "\u001b[0;32m/var/folders/9h/y2ntdj8n1cq9mx7r5svm9f9r0000gn/T/ipykernel_19575/2451009938.py\u001b[0m in \u001b[0;36m<module>\u001b[0;34m\u001b[0m\n\u001b[1;32m     12\u001b[0m \u001b[0mprint\u001b[0m\u001b[0;34m(\u001b[0m\u001b[0mcells_mask\u001b[0m\u001b[0;34m.\u001b[0m\u001b[0mlevel_dimensions\u001b[0m\u001b[0;34m[\u001b[0m\u001b[0mone_dimension\u001b[0m\u001b[0;34m]\u001b[0m\u001b[0;34m)\u001b[0m\u001b[0;34m\u001b[0m\u001b[0;34m\u001b[0m\u001b[0m\n\u001b[1;32m     13\u001b[0m \u001b[0;34m\u001b[0m\u001b[0m\n\u001b[0;32m---> 14\u001b[0;31m \u001b[0mread_cell_mask\u001b[0m \u001b[0;34m=\u001b[0m \u001b[0mcells_mask\u001b[0m\u001b[0;34m.\u001b[0m\u001b[0mread_region\u001b[0m\u001b[0;34m(\u001b[0m\u001b[0;34m(\u001b[0m\u001b[0;36m0\u001b[0m\u001b[0;34m,\u001b[0m\u001b[0;36m0\u001b[0m\u001b[0;34m)\u001b[0m\u001b[0;34m,\u001b[0m \u001b[0mone_dimension\u001b[0m\u001b[0;34m,\u001b[0m \u001b[0mcells_mask\u001b[0m\u001b[0;34m.\u001b[0m\u001b[0mlevel_dimensions\u001b[0m\u001b[0;34m[\u001b[0m\u001b[0mone_dimension\u001b[0m\u001b[0;34m]\u001b[0m\u001b[0;34m)\u001b[0m\u001b[0;34m\u001b[0m\u001b[0;34m\u001b[0m\u001b[0m\n\u001b[0m\u001b[1;32m     15\u001b[0m \u001b[0;31m# read_cell_mask = read_cell_mask.convert('RGB')\u001b[0m\u001b[0;34m\u001b[0m\u001b[0;34m\u001b[0m\u001b[0m\n\u001b[1;32m     16\u001b[0m \u001b[0;31m# read_cell_mask = np.array(read_cell_mask)\u001b[0m\u001b[0;34m\u001b[0m\u001b[0;34m\u001b[0m\u001b[0m\n",
      "\u001b[0;32m~/opt/anaconda3/lib/python3.9/site-packages/openslide/__init__.py\u001b[0m in \u001b[0;36mread_region\u001b[0;34m(self, location, level, size)\u001b[0m\n\u001b[1;32m    226\u001b[0m         \u001b[0mUnlike\u001b[0m \u001b[0;32min\u001b[0m \u001b[0mthe\u001b[0m \u001b[0mC\u001b[0m \u001b[0minterface\u001b[0m\u001b[0;34m,\u001b[0m \u001b[0mthe\u001b[0m \u001b[0mimage\u001b[0m \u001b[0mdata\u001b[0m \u001b[0mreturned\u001b[0m \u001b[0mby\u001b[0m \u001b[0mthis\u001b[0m\u001b[0;34m\u001b[0m\u001b[0;34m\u001b[0m\u001b[0m\n\u001b[1;32m    227\u001b[0m         function is not premultiplied.\"\"\"\n\u001b[0;32m--> 228\u001b[0;31m         return lowlevel.read_region(self._osr, location[0], location[1],\n\u001b[0m\u001b[1;32m    229\u001b[0m                 level, size[0], size[1])\n\u001b[1;32m    230\u001b[0m \u001b[0;34m\u001b[0m\u001b[0m\n",
      "\u001b[0;32m~/opt/anaconda3/lib/python3.9/site-packages/openslide/lowlevel.py\u001b[0m in \u001b[0;36mread_region\u001b[0;34m(slide, x, y, level, w, h)\u001b[0m\n\u001b[1;32m    212\u001b[0m         \u001b[0;32mreturn\u001b[0m \u001b[0mPIL\u001b[0m\u001b[0;34m.\u001b[0m\u001b[0mImage\u001b[0m\u001b[0;34m.\u001b[0m\u001b[0mnew\u001b[0m\u001b[0;34m(\u001b[0m\u001b[0;34m'RGBA'\u001b[0m\u001b[0;34m,\u001b[0m \u001b[0;34m(\u001b[0m\u001b[0mw\u001b[0m\u001b[0;34m,\u001b[0m \u001b[0mh\u001b[0m\u001b[0;34m)\u001b[0m\u001b[0;34m)\u001b[0m\u001b[0;34m\u001b[0m\u001b[0;34m\u001b[0m\u001b[0m\n\u001b[1;32m    213\u001b[0m     \u001b[0mbuf\u001b[0m \u001b[0;34m=\u001b[0m \u001b[0;34m(\u001b[0m\u001b[0mw\u001b[0m \u001b[0;34m*\u001b[0m \u001b[0mh\u001b[0m \u001b[0;34m*\u001b[0m \u001b[0mc_uint32\u001b[0m\u001b[0;34m)\u001b[0m\u001b[0;34m(\u001b[0m\u001b[0;34m)\u001b[0m\u001b[0;34m\u001b[0m\u001b[0;34m\u001b[0m\u001b[0m\n\u001b[0;32m--> 214\u001b[0;31m     \u001b[0m_read_region\u001b[0m\u001b[0;34m(\u001b[0m\u001b[0mslide\u001b[0m\u001b[0;34m,\u001b[0m \u001b[0mbuf\u001b[0m\u001b[0;34m,\u001b[0m \u001b[0mx\u001b[0m\u001b[0;34m,\u001b[0m \u001b[0my\u001b[0m\u001b[0;34m,\u001b[0m \u001b[0mlevel\u001b[0m\u001b[0;34m,\u001b[0m \u001b[0mw\u001b[0m\u001b[0;34m,\u001b[0m \u001b[0mh\u001b[0m\u001b[0;34m)\u001b[0m\u001b[0;34m\u001b[0m\u001b[0;34m\u001b[0m\u001b[0m\n\u001b[0m\u001b[1;32m    215\u001b[0m     \u001b[0;32mreturn\u001b[0m \u001b[0m_load_image\u001b[0m\u001b[0;34m(\u001b[0m\u001b[0mbuf\u001b[0m\u001b[0;34m,\u001b[0m \u001b[0;34m(\u001b[0m\u001b[0mw\u001b[0m\u001b[0;34m,\u001b[0m \u001b[0mh\u001b[0m\u001b[0;34m)\u001b[0m\u001b[0;34m)\u001b[0m\u001b[0;34m\u001b[0m\u001b[0;34m\u001b[0m\u001b[0m\n\u001b[1;32m    216\u001b[0m \u001b[0;34m\u001b[0m\u001b[0m\n",
      "\u001b[0;32m~/opt/anaconda3/lib/python3.9/site-packages/openslide/lowlevel.py\u001b[0m in \u001b[0;36m_check_error\u001b[0;34m(result, func, args)\u001b[0m\n\u001b[1;32m    149\u001b[0m     \u001b[0merr\u001b[0m \u001b[0;34m=\u001b[0m \u001b[0mget_error\u001b[0m\u001b[0;34m(\u001b[0m\u001b[0margs\u001b[0m\u001b[0;34m[\u001b[0m\u001b[0;36m0\u001b[0m\u001b[0;34m]\u001b[0m\u001b[0;34m)\u001b[0m\u001b[0;34m\u001b[0m\u001b[0;34m\u001b[0m\u001b[0m\n\u001b[1;32m    150\u001b[0m     \u001b[0;32mif\u001b[0m \u001b[0merr\u001b[0m \u001b[0;32mis\u001b[0m \u001b[0;32mnot\u001b[0m \u001b[0;32mNone\u001b[0m\u001b[0;34m:\u001b[0m\u001b[0;34m\u001b[0m\u001b[0;34m\u001b[0m\u001b[0m\n\u001b[0;32m--> 151\u001b[0;31m         \u001b[0;32mraise\u001b[0m \u001b[0mOpenSlideError\u001b[0m\u001b[0;34m(\u001b[0m\u001b[0merr\u001b[0m\u001b[0;34m)\u001b[0m\u001b[0;34m\u001b[0m\u001b[0;34m\u001b[0m\u001b[0m\n\u001b[0m\u001b[1;32m    152\u001b[0m     \u001b[0;32mreturn\u001b[0m \u001b[0m_check_string\u001b[0m\u001b[0;34m(\u001b[0m\u001b[0mresult\u001b[0m\u001b[0;34m,\u001b[0m \u001b[0mfunc\u001b[0m\u001b[0;34m,\u001b[0m \u001b[0margs\u001b[0m\u001b[0;34m)\u001b[0m\u001b[0;34m\u001b[0m\u001b[0;34m\u001b[0m\u001b[0m\n\u001b[1;32m    153\u001b[0m \u001b[0;34m\u001b[0m\u001b[0m\n",
      "\u001b[0;31mOpenSlideError\u001b[0m: TIFFRGBAImageGet failed"
     ]
    }
   ],
   "source": [
    "from PIL import Image\n",
    "import cv2\n",
    "\n",
    "one_dimension = 0\n",
    "# read_slide = slide.read_region((0,0), one_dimension, slide.level_dimensions[one_dimension])\n",
    "# read_slide = read_slide.convert('RGB')\n",
    "# read_slide.save('read_slide_' + str(one_dimension) + '.png')\n",
    "\n",
    "# cells_mask = openslide.OpenSlide(cells_masks_file)\n",
    "\n",
    "print(cells_mask.level_dimensions)\n",
    "print(cells_mask.level_dimensions[one_dimension])\n",
    "\n",
    "read_cell_mask = cells_mask.read_region((0,0), one_dimension, cells_mask.level_dimensions[one_dimension])\n",
    "# read_cell_mask = read_cell_mask.convert('RGB')\n",
    "# read_cell_mask = np.array(read_cell_mask)\n",
    "\n",
    "# for i in range(read_cell_mask.shape[0]):\n",
    "#     for j in range(read_cell_mask.shape[1]):\n",
    "#         number = read_cell_mask[i][j]\n",
    "#         if number[0] == 1:\n",
    "#             read_cell_mask[i][j] = [255,0,0]\n",
    "#         if number[0] == 2:\n",
    "#             read_cell_mask[i][j] = [255,165,0]\n",
    "#         if number[0] == 3:\n",
    "#             read_cell_mask[i][j] = [255,255,0]\n",
    "#         if number[0] == 4:\n",
    "#             read_cell_mask[i][j] = [0,255,0]\n",
    "#         if number[0] == 5:\n",
    "#             read_cell_mask[i][j] = [0,127,255]\n",
    "#         if number[0] == 6:\n",
    "#             read_cell_mask[i][j] = [0,0,255]\n",
    "#         if number[0] == 7:\n",
    "#             read_cell_mask[i][j] = [139,0,255]\n",
    "\n",
    "\n",
    "# cv2.imwrite('read_cell_mask_' + str(one_dimension) + '.png', read_cell_mask)\n",
    "# read_cell_mask.save('read_cell_mask_' + str(one_dimension) + '.png')\n",
    "\n",
    "\n",
    "\n",
    "# read_tissues_masks = tissues_masks.read_region((0,0), one_dimension, tissues_masks.level_dimensions[one_dimension])\n",
    "# read_tissues_masks = read_tissues_masks.convert('RGB')\n",
    "# # read_tissues_masks.save('read_tissues_masks_' + str(one_dimension) + '.png')\n",
    "# read_tissues_masks = np.array(read_tissues_masks)\n",
    "# read_tissues_masks[read_tissues_masks>0]=255\n",
    "# # print(read_cell_mask.shape)\n",
    "# # read_cell_mask = read_cell_mask * (256 // np.max(read_cell_mask))\n",
    "# cv2.imwrite('read_tissues_masks' + str(one_dimension) + '.png', read_tissues_masks)\n",
    "\n",
    "print('Done')"
   ]
  },
  {
   "cell_type": "code",
   "execution_count": null,
   "id": "87324dad",
   "metadata": {},
   "outputs": [],
   "source": []
  },
  {
   "cell_type": "code",
   "execution_count": null,
   "id": "068666f8",
   "metadata": {},
   "outputs": [],
   "source": []
  }
 ],
 "metadata": {
  "kernelspec": {
   "display_name": "Python 3 (ipykernel)",
   "language": "python",
   "name": "python3"
  },
  "language_info": {
   "codemirror_mode": {
    "name": "ipython",
    "version": 3
   },
   "file_extension": ".py",
   "mimetype": "text/x-python",
   "name": "python",
   "nbconvert_exporter": "python",
   "pygments_lexer": "ipython3",
   "version": "3.9.7"
  }
 },
 "nbformat": 4,
 "nbformat_minor": 5
}

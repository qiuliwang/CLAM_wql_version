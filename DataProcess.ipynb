{
 "cells": [
  {
   "cell_type": "code",
   "execution_count": 43,
   "id": "2e892515",
   "metadata": {},
   "outputs": [],
   "source": [
    "import openslide \n",
    "import os\n",
    "import numpy as np\n",
    "data_path = 'DataSource/'\n",
    "\n"
   ]
  },
  {
   "cell_type": "code",
   "execution_count": 49,
   "id": "2870bd76",
   "metadata": {},
   "outputs": [
    {
     "name": "stdout",
     "output_type": "stream",
     "text": [
      "DataSource/TCGA-HT-7608-01A-01-BS1.0b72cd2c-0eaa-4b6e-b164-3ec6a570dd42.svs\n",
      "Level Count:  3\n",
      "Dimensions:  ((51408, 44215), (12852, 11053), (3213, 2763))\n",
      "Downsamples:  (1.0, 4.000135709762056, 16.001266739051758)\n",
      "Width:  3213\n",
      "Height:  2763\n"
     ]
    }
   ],
   "source": [
    "temp_file = os.path.join(data_path, files[1])\n",
    "print(temp_file)\n",
    "slide = openslide.OpenSlide(temp_file)\n",
    "\n",
    "print('Level Count: ', slide.level_count)\n",
    "\n",
    "dimensions = slide.level_dimensions\n",
    "print('Dimensions: ', dimensions)\n",
    "\n",
    "downsamples = slide.level_downsamples\n",
    "print('Downsamples: ', downsamples)\n",
    "\n",
    "WSI_object = WholeSlideImage(os.path.join(data_path, files[1]))\n",
    "w, h = WSI_object.level_dim[-1] \n",
    "print('Width: ', w)\n",
    "print('Height: ', h)"
   ]
  },
  {
   "cell_type": "code",
   "execution_count": 56,
   "id": "2f1ba41d",
   "metadata": {},
   "outputs": [
    {
     "name": "stdout",
     "output_type": "stream",
     "text": [
      "DataSource/TCGA-HT-7608-01A-01-BS1.0b72cd2c-0eaa-4b6e-b164-3ec6a570dd42.svs\n",
      "Image size:  (2763, 3213, 4)\n",
      "Scale:  (16.0, 16.002533478103512)\n",
      "a_t:  104652900\n",
      "a_h:  16744464\n",
      "Contours shape:  <class 'tuple'>\n"
     ]
    },
    {
     "ename": "AttributeError",
     "evalue": "'NoneType' object has no attribute 'shape'",
     "output_type": "error",
     "traceback": [
      "\u001b[0;31m---------------------------------------------------------------------------\u001b[0m",
      "\u001b[0;31mAttributeError\u001b[0m                            Traceback (most recent call last)",
      "\u001b[0;32m/var/folders/9h/y2ntdj8n1cq9mx7r5svm9f9r0000gn/T/ipykernel_39316/98966797.py\u001b[0m in \u001b[0;36m<module>\u001b[0;34m\u001b[0m\n\u001b[1;32m     10\u001b[0m \u001b[0mWSI_object\u001b[0m \u001b[0;34m=\u001b[0m \u001b[0mWholeSlideImage\u001b[0m\u001b[0;34m(\u001b[0m\u001b[0mos\u001b[0m\u001b[0;34m.\u001b[0m\u001b[0mpath\u001b[0m\u001b[0;34m.\u001b[0m\u001b[0mjoin\u001b[0m\u001b[0;34m(\u001b[0m\u001b[0mdata_path\u001b[0m\u001b[0;34m,\u001b[0m \u001b[0mfiles\u001b[0m\u001b[0;34m[\u001b[0m\u001b[0;36m1\u001b[0m\u001b[0;34m]\u001b[0m\u001b[0;34m)\u001b[0m\u001b[0;34m)\u001b[0m\u001b[0;34m\u001b[0m\u001b[0;34m\u001b[0m\u001b[0m\n\u001b[1;32m     11\u001b[0m \u001b[0;34m\u001b[0m\u001b[0m\n\u001b[0;32m---> 12\u001b[0;31m \u001b[0mWSI_object\u001b[0m\u001b[0;34m.\u001b[0m\u001b[0msegmentTissue\u001b[0m\u001b[0;34m(\u001b[0m\u001b[0mseg_level\u001b[0m\u001b[0;34m=\u001b[0m\u001b[0;34m-\u001b[0m\u001b[0;36m1\u001b[0m\u001b[0;34m,\u001b[0m \u001b[0msthresh\u001b[0m\u001b[0;34m=\u001b[0m\u001b[0;36m20\u001b[0m\u001b[0;34m,\u001b[0m \u001b[0msthresh_up\u001b[0m \u001b[0;34m=\u001b[0m \u001b[0;36m255\u001b[0m\u001b[0;34m,\u001b[0m \u001b[0mmthresh\u001b[0m\u001b[0;34m=\u001b[0m\u001b[0;36m7\u001b[0m\u001b[0;34m,\u001b[0m \u001b[0mclose\u001b[0m \u001b[0;34m=\u001b[0m \u001b[0;36m0\u001b[0m\u001b[0;34m,\u001b[0m \u001b[0muse_otsu\u001b[0m\u001b[0;34m=\u001b[0m\u001b[0;32mFalse\u001b[0m\u001b[0;34m,\u001b[0m \u001b[0mfilter_params\u001b[0m\u001b[0;34m=\u001b[0m\u001b[0;34m{\u001b[0m\u001b[0;34m'a_t'\u001b[0m\u001b[0;34m:\u001b[0m\u001b[0;36m100\u001b[0m\u001b[0;34m,\u001b[0m \u001b[0;34m'a_h'\u001b[0m\u001b[0;34m:\u001b[0m\u001b[0;36m16\u001b[0m\u001b[0;34m}\u001b[0m\u001b[0;34m,\u001b[0m \u001b[0mref_patch_size\u001b[0m\u001b[0;34m=\u001b[0m\u001b[0;36m512\u001b[0m\u001b[0;34m,\u001b[0m \u001b[0mexclude_ids\u001b[0m\u001b[0;34m=\u001b[0m\u001b[0;34m[\u001b[0m\u001b[0;34m]\u001b[0m\u001b[0;34m,\u001b[0m \u001b[0mkeep_ids\u001b[0m\u001b[0;34m=\u001b[0m\u001b[0;34m[\u001b[0m\u001b[0;34m]\u001b[0m\u001b[0;34m)\u001b[0m\u001b[0;34m\u001b[0m\u001b[0;34m\u001b[0m\u001b[0m\n\u001b[0m\u001b[1;32m     13\u001b[0m \u001b[0mprint\u001b[0m\u001b[0;34m(\u001b[0m\u001b[0mtype\u001b[0m\u001b[0;34m(\u001b[0m\u001b[0mWSI_object\u001b[0m\u001b[0;34m)\u001b[0m\u001b[0;34m)\u001b[0m\u001b[0;34m\u001b[0m\u001b[0;34m\u001b[0m\u001b[0m\n",
      "\u001b[0;32m~/Local/WorkingOn/CLAM/wsi_core/WholeSlideImage.py\u001b[0m in \u001b[0;36msegmentTissue\u001b[0;34m(self, seg_level, sthresh, sthresh_up, mthresh, close, use_otsu, filter_params, ref_patch_size, exclude_ids, keep_ids)\u001b[0m\n\u001b[1;32m    177\u001b[0m         \u001b[0mcontours\u001b[0m\u001b[0;34m,\u001b[0m \u001b[0mhierarchy\u001b[0m \u001b[0;34m=\u001b[0m \u001b[0mcv2\u001b[0m\u001b[0;34m.\u001b[0m\u001b[0mfindContours\u001b[0m\u001b[0;34m(\u001b[0m\u001b[0mimg_otsu\u001b[0m\u001b[0;34m,\u001b[0m \u001b[0mcv2\u001b[0m\u001b[0;34m.\u001b[0m\u001b[0mRETR_CCOMP\u001b[0m\u001b[0;34m,\u001b[0m \u001b[0mcv2\u001b[0m\u001b[0;34m.\u001b[0m\u001b[0mCHAIN_APPROX_NONE\u001b[0m\u001b[0;34m)\u001b[0m \u001b[0;31m# Find contours\u001b[0m\u001b[0;34m\u001b[0m\u001b[0;34m\u001b[0m\u001b[0m\n\u001b[1;32m    178\u001b[0m \u001b[0;34m\u001b[0m\u001b[0m\n\u001b[0;32m--> 179\u001b[0;31m     \u001b[0;31m#     hierarchy = np.squeeze(hierarchy, axis=(0,))[:, 2:]\u001b[0m\u001b[0;34m\u001b[0m\u001b[0;34m\u001b[0m\u001b[0m\n\u001b[0m\u001b[1;32m    180\u001b[0m \u001b[0;34m\u001b[0m\u001b[0m\n\u001b[1;32m    181\u001b[0m     \u001b[0;31m#     if filter_params: foreground_contours, hole_contours = _filter_contours(contours, hierarchy, filter_params)  # Necessary for filtering out artifacts\u001b[0m\u001b[0;34m\u001b[0m\u001b[0;34m\u001b[0m\u001b[0m\n",
      "\u001b[0;31mAttributeError\u001b[0m: 'NoneType' object has no attribute 'shape'"
     ]
    }
   ],
   "source": [
    "'''\n",
    "segmentTissue() parameters\n",
    "self, seg_level=0, sthresh=20, sthresh_up = 255, mthresh=7, close = 0, use_otsu=False, filter_params={'a_t':100}, ref_patch_size=512, exclude_ids=[], keep_ids=[]\n",
    "'''\n",
    "from wsi_core.WholeSlideImage import WholeSlideImage\n",
    "import argparse\n",
    "\n",
    "temp_file = os.path.join(data_path, files[1])\n",
    "print(temp_file)\n",
    "WSI_object = WholeSlideImage(os.path.join(data_path, files[1]))\n",
    "\n",
    "WSI_object.segmentTissue(seg_level=-1, sthresh=20, sthresh_up = 255, mthresh=7, close = 0, use_otsu=False, filter_params={'a_t':100, 'a_h':16}, ref_patch_size=512, exclude_ids=[], keep_ids=[])\n",
    "print(type(WSI_object))\n"
   ]
  },
  {
   "cell_type": "code",
   "execution_count": null,
   "id": "79524ec6",
   "metadata": {},
   "outputs": [],
   "source": []
  },
  {
   "cell_type": "code",
   "execution_count": null,
   "id": "325996d2",
   "metadata": {},
   "outputs": [],
   "source": []
  },
  {
   "cell_type": "raw",
   "id": "b959d065",
   "metadata": {},
   "source": []
  },
  {
   "cell_type": "code",
   "execution_count": null,
   "id": "af64359b",
   "metadata": {},
   "outputs": [],
   "source": []
  }
 ],
 "metadata": {
  "kernelspec": {
   "display_name": "Python 3 (ipykernel)",
   "language": "python",
   "name": "python3"
  },
  "language_info": {
   "codemirror_mode": {
    "name": "ipython",
    "version": 3
   },
   "file_extension": ".py",
   "mimetype": "text/x-python",
   "name": "python",
   "nbconvert_exporter": "python",
   "pygments_lexer": "ipython3",
   "version": "3.9.7"
  }
 },
 "nbformat": 4,
 "nbformat_minor": 5
}
